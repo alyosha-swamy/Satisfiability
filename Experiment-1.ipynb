{
 "cells": [
  {
   "cell_type": "code",
   "execution_count": 17,
   "metadata": {},
   "outputs": [],
   "source": [
    "from pysat.formula import CNF\n",
    "from pysat.solvers import Glucose3"
   ]
  },
  {
   "cell_type": "markdown",
   "metadata": {},
   "source": [
    "Constants and Definitions: Constants for the number of houses, categories, and attributes are defined, along with mappings for the various attributes.\n",
    "\n",
    "Variable Mapping: A function var is used to map a unique variable ID to each combination of house, category, and attribute.\n",
    "\n",
    "Constraints (Clues): Clues are encoded as constraints in Conjunctive Normal Form (CNF) and added to the formula. These constraints ensure that the SAT solver finds a valid solution that satisfies the clues of Einstein's puzzle.\n",
    "\n",
    "Solving the SAT Problem: A solver (Glucose3) is used to find a solution to the SAT problem. If a solution is found, it is interpreted based on the variable IDs.\n",
    "\n",
    "Interpreting the Solution: The model is interpreted to map back to the attributes of the houses, forming the final solution."
   ]
  },
  {
   "cell_type": "code",
   "execution_count": 18,
   "metadata": {},
   "outputs": [],
   "source": [
    "# Constants for the problem with five houses and five categories\n",
    "K = 5  # Number of houses\n",
    "CATEGORIES = 5  # Categories: Nationality, Color, Drink, Pet, Cigarette\n",
    "M = 5  # Number of attributes per category\n",
    "\n",
    "# Categories and attributes\n",
    "NATIONALITY, COLOR, DRINK, PET, CIGARETTE = 0, 1, 2, 3, 4\n",
    "ENGLISHMAN, SPANIARD, UKRAINIAN, NORWEGIAN, JAPANESE = 0, 1, 2, 3, 4\n",
    "RED, GREEN, IVORY, YELLOW, BLUE = 0, 1, 2, 3, 4\n",
    "COFFEE, TEA, MILK, ORANGE_JUICE, WATER = 0, 1, 2, 3, 4\n",
    "DOG, SNAILS, ZEBRA, FOX, HORSE = 0, 1, 2, 3, 4\n",
    "OLD_GOLD, KOOLS, CHESTERFIELDS, LUCKY_STRIKE, PARLIAMENTS = 0, 1, 2, 3, 4\n"
   ]
  },
  {
   "cell_type": "code",
   "execution_count": 19,
   "metadata": {},
   "outputs": [],
   "source": [
    "def var(house, category, attribute):\n",
    "    return house * CATEGORIES * M + category * M + attribute + 1\n"
   ]
  },
  {
   "cell_type": "code",
   "execution_count": 20,
   "metadata": {},
   "outputs": [],
   "source": [
    "# Create a CNF formula\n",
    "formula = CNF()\n",
    "\n",
    "# Each house has exactly one of each attribute (at least one and at most one)\n",
    "for house in range(K):\n",
    "    for category in range(CATEGORIES):\n",
    "        formula.append([var(house, category, attr) for attr in range(M)])  # At least one attribute\n",
    "        for attr1 in range(M):\n",
    "            for attr2 in range(attr1 + 1, M):\n",
    "                formula.append([-var(house, category, attr1), -var(house, category, attr2)])  # At most one attribute\n",
    "\n",
    "# No two houses can have the same attribute in the same category\n",
    "for category in range(CATEGORIES):\n",
    "    for attr in range(M):\n",
    "        for house1 in range(K):\n",
    "            for house2 in range(house1 + 1, K):\n",
    "                formula.append([-var(house1, category, attr), -var(house2, category, attr)])  # Uniqueness across houses\n"
   ]
  },
  {
   "cell_type": "code",
   "execution_count": 21,
   "metadata": {},
   "outputs": [],
   "source": [
    "# The Englishman lives in the red house\n",
    "for house in range(K):\n",
    "    formula.append([-var(house, NATIONALITY, ENGLISHMAN), var(house, COLOR, RED)])\n",
    "    formula.append([-var(house, COLOR, RED), var(house, NATIONALITY, ENGLISHMAN)])\n",
    "\n",
    "# The Spaniard owns the dog\n",
    "for house in range(K):\n",
    "    formula.append([-var(house, NATIONALITY, SPANIARD), var(house, PET, DOG)])\n",
    "    formula.append([-var(house, PET, DOG), var(house, NATIONALITY, SPANIARD)])\n",
    "\n",
    "# Coffee is drunk in the green house\n",
    "for house in range(K):\n",
    "    formula.append([-var(house, DRINK, COFFEE), var(house, COLOR, GREEN)])\n",
    "    formula.append([-var(house, COLOR, GREEN), var(house, DRINK, COFFEE)])\n",
    "\n",
    "# The green house is immediately to the right of the ivory house\n",
    "for house in range(K - 1):\n",
    "    formula.append([-var(house, COLOR, IVORY), var(house + 1, COLOR, GREEN)])\n",
    "\n",
    "# The Old Gold smoker owns snails\n",
    "for house in range(K):\n",
    "    formula.append([-var(house, CIGARETTE, OLD_GOLD), var(house, PET, SNAILS)])\n",
    "    formula.append([-var(house, PET, SNAILS), var(house, CIGARETTE, OLD_GOLD)])\n",
    "\n",
    "# Kools are smoked in the yellow house\n",
    "for house in range(K):\n",
    "    formula.append([-var(house, CIGARETTE, KOOLS), var(house, COLOR, YELLOW)])\n",
    "    formula.append([-var(house, COLOR, YELLOW), var(house, CIGARETTE, KOOLS)])\n",
    "\n",
    "# Milk is drunk in the middle house\n",
    "formula.append([var(2, DRINK, MILK)])\n",
    "\n",
    "# The Norwegian lives in the first house\n",
    "formula.append([var(0, NATIONALITY, NORWEGIAN)])\n",
    "\n",
    "# The man who smokes Chesterfields lives in the house next to the man with the fox\n",
    "for house in range(K):\n",
    "    if house > 0:\n",
    "        formula.append([-var(house, CIGARETTE, CHESTERFIELDS), var(house - 1, PET, FOX)])\n",
    "    if house < K - 1:\n",
    "        formula.append([-var(house, CIGARETTE, CHESTERFIELDS), var(house + 1, PET, FOX)])\n",
    "\n",
    "# Kools are smoked in the house next to the house where the horse is kept\n",
    "for house in range(K):\n",
    "    if house > 0:\n",
    "        formula.append([-var(house, CIGARETTE, KOOLS), var(house - 1, PET, HORSE)])\n",
    "    if house < K - 1:\n",
    "        formula.append([-var(house, CIGARETTE, KOOLS), var(house + 1, PET, HORSE)])\n",
    "\n",
    "# The Lucky Strike smoker drinks orange juice\n",
    "for house in range(K):\n",
    "    formula.append([-var(house, CIGARETTE, LUCKY_STRIKE), var(house, DRINK, ORANGE_JUICE)])\n",
    "    formula.append([-var(house, DRINK, ORANGE_JUICE), var(house, CIGARETTE, LUCKY_STRIKE)])\n",
    "\n",
    "# The Japanese smokes Parliaments\n",
    "for house in range(K):\n",
    "    formula.append([-var(house, NATIONALITY, JAPANESE), var(house, CIGARETTE, PARLIAMENTS)])\n",
    "    formula.append([-var(house, CIGARETTE, PARLIAMENTS), var(house, NATIONALITY, JAPANESE)])\n",
    "\n",
    "# The Norwegian lives next to the blue house\n",
    "for house in range(K):\n",
    "    if house > 0:\n",
    "        formula.append([-var(house, NATIONALITY, NORWEGIAN), var(house - 1, COLOR, BLUE)])\n",
    "    if house < K - 1:\n",
    "        formula.append([-var(house, NATIONALITY, NORWEGIAN), var(house + 1, COLOR, BLUE)])\n"
   ]
  },
  {
   "cell_type": "code",
   "execution_count": 22,
   "metadata": {},
   "outputs": [
    {
     "name": "stdout",
     "output_type": "stream",
     "text": [
      "Formula:\n",
      "CNF(from_string=\"p cnf 125 625\\n1 2 3 4 5 0\\n-1 -2 0\\n-1 -3 0\\n-1 -4 0\\n-1 -5 0\\n-2 -3 0\\n-2 -4 0\\n-2 -5 0\\n-3 -4 0\\n-3 -5 0\\n-4 -5 0\\n6 7 8 9 10 0\\n-6 -7 0\\n-6 -8 0\\n-6 -9 0\\n-6 -10 0\\n-7 -8 0\\n-7 -9 0\\n-7 -10 0\\n-8 -9 0\\n-8 -10 0\\n-9 -10 0\\n11 12 13 14 15 0\\n-11 -12 0\\n-11 -13 0\\n-11 -14 0\\n-11 -15 0\\n-12 -13 0\\n-12 -14 0\\n-12 -15 0\\n-13 -14 0\\n-13 -15 0\\n-14 -15 0\\n16 17 18 19 20 0\\n-16 -17 0\\n-16 -18 0\\n-16 -19 0\\n-16 -20 0\\n-17 -18 0\\n-17 -19 0\\n-17 -20 0\\n-18 -19 0\\n-18 -20 0\\n-19 -20 0\\n21 22 23 24 25 0\\n-21 -22 0\\n-21 -23 0\\n-21 -24 0\\n-21 -25 0\\n-22 -23 0\\n-22 -24 0\\n-22 -25 0\\n-23 -24 0\\n-23 -25 0\\n-24 -25 0\\n26 27 28 29 30 0\\n-26 -27 0\\n-26 -28 0\\n-26 -29 0\\n-26 -30 0\\n-27 -28 0\\n-27 -29 0\\n-27 -30 0\\n-28 -29 0\\n-28 -30 0\\n-29 -30 0\\n31 32 33 34 35 0\\n-31 -32 0\\n-31 -33 0\\n-31 -34 0\\n-31 -35 0\\n-32 -33 0\\n-32 -34 0\\n-32 -35 0\\n-33 -34 0\\n-33 -35 0\\n-34 -35 0\\n36 37 38 39 40 0\\n-36 -37 0\\n-36 -38 0\\n-36 -39 0\\n-36 -40 0\\n-37 -38 0\\n-37 -39 0\\n-37 -40 0\\n-38 -39 0\\n-38 -40 0\\n-39 -40 0\\n41 42 43 44 45 0\\n-41 -42 0\\n-41 -43 0\\n-41 -44 0\\n-41 -45 0\\n-42 -43 0\\n-42 -44 0\\n-42 -45 0\\n-43 -44 0\\n-43 -45 0\\n-44 -45 0\\n46 47 48 49 50 0\\n-46 -47 0\\n-46 -48 0\\n-46 -49 0\\n-46 -50 0\\n-47 -48 0\\n-47 -49 0\\n-47 -50 0\\n-48 -49 0\\n-48 -50 0\\n-49 -50 0\\n51 52 53 54 55 0\\n-51 -52 0\\n-51 -53 0\\n-51 -54 0\\n-51 -55 0\\n-52 -53 0\\n-52 -54 0\\n-52 -55 0\\n-53 -54 0\\n-53 -55 0\\n-54 -55 0\\n56 57 58 59 60 0\\n-56 -57 0\\n-56 -58 0\\n-56 -59 0\\n-56 -60 0\\n-57 -58 0\\n-57 -59 0\\n-57 -60 0\\n-58 -59 0\\n-58 -60 0\\n-59 -60 0\\n61 62 63 64 65 0\\n-61 -62 0\\n-61 -63 0\\n-61 -64 0\\n-61 -65 0\\n-62 -63 0\\n-62 -64 0\\n-62 -65 0\\n-63 -64 0\\n-63 -65 0\\n-64 -65 0\\n66 67 68 69 70 0\\n-66 -67 0\\n-66 -68 0\\n-66 -69 0\\n-66 -70 0\\n-67 -68 0\\n-67 -69 0\\n-67 -70 0\\n-68 -69 0\\n-68 -70 0\\n-69 -70 0\\n71 72 73 74 75 0\\n-71 -72 0\\n-71 -73 0\\n-71 -74 0\\n-71 -75 0\\n-72 -73 0\\n-72 -74 0\\n-72 -75 0\\n-73 -74 0\\n-73 -75 0\\n-74 -75 0\\n76 77 78 79 80 0\\n-76 -77 0\\n-76 -78 0\\n-76 -79 0\\n-76 -80 0\\n-77 -78 0\\n-77 -79 0\\n-77 -80 0\\n-78 -79 0\\n-78 -80 0\\n-79 -80 0\\n81 82 83 84 85 0\\n-81 -82 0\\n-81 -83 0\\n-81 -84 0\\n-81 -85 0\\n-82 -83 0\\n-82 -84 0\\n-82 -85 0\\n-83 -84 0\\n-83 -85 0\\n-84 -85 0\\n86 87 88 89 90 0\\n-86 -87 0\\n-86 -88 0\\n-86 -89 0\\n-86 -90 0\\n-87 -88 0\\n-87 -89 0\\n-87 -90 0\\n-88 -89 0\\n-88 -90 0\\n-89 -90 0\\n91 92 93 94 95 0\\n-91 -92 0\\n-91 -93 0\\n-91 -94 0\\n-91 -95 0\\n-92 -93 0\\n-92 -94 0\\n-92 -95 0\\n-93 -94 0\\n-93 -95 0\\n-94 -95 0\\n96 97 98 99 100 0\\n-96 -97 0\\n-96 -98 0\\n-96 -99 0\\n-96 -100 0\\n-97 -98 0\\n-97 -99 0\\n-97 -100 0\\n-98 -99 0\\n-98 -100 0\\n-99 -100 0\\n101 102 103 104 105 0\\n-101 -102 0\\n-101 -103 0\\n-101 -104 0\\n-101 -105 0\\n-102 -103 0\\n-102 -104 0\\n-102 -105 0\\n-103 -104 0\\n-103 -105 0\\n-104 -105 0\\n106 107 108 109 110 0\\n-106 -107 0\\n-106 -108 0\\n-106 -109 0\\n-106 -110 0\\n-107 -108 0\\n-107 -109 0\\n-107 -110 0\\n-108 -109 0\\n-108 -110 0\\n-109 -110 0\\n111 112 113 114 115 0\\n-111 -112 0\\n-111 -113 0\\n-111 -114 0\\n-111 -115 0\\n-112 -113 0\\n-112 -114 0\\n-112 -115 0\\n-113 -114 0\\n-113 -115 0\\n-114 -115 0\\n116 117 118 119 120 0\\n-116 -117 0\\n-116 -118 0\\n-116 -119 0\\n-116 -120 0\\n-117 -118 0\\n-117 -119 0\\n-117 -120 0\\n-118 -119 0\\n-118 -120 0\\n-119 -120 0\\n121 122 123 124 125 0\\n-121 -122 0\\n-121 -123 0\\n-121 -124 0\\n-121 -125 0\\n-122 -123 0\\n-122 -124 0\\n-122 -125 0\\n-123 -124 0\\n-123 -125 0\\n-124 -125 0\\n-1 -26 0\\n-1 -51 0\\n-1 -76 0\\n-1 -101 0\\n-26 -51 0\\n-26 -76 0\\n-26 -101 0\\n-51 -76 0\\n-51 -101 0\\n-76 -101 0\\n-2 -27 0\\n-2 -52 0\\n-2 -77 0\\n-2 -102 0\\n-27 -52 0\\n-27 -77 0\\n-27 -102 0\\n-52 -77 0\\n-52 -102 0\\n-77 -102 0\\n-3 -28 0\\n-3 -53 0\\n-3 -78 0\\n-3 -103 0\\n-28 -53 0\\n-28 -78 0\\n-28 -103 0\\n-53 -78 0\\n-53 -103 0\\n-78 -103 0\\n-4 -29 0\\n-4 -54 0\\n-4 -79 0\\n-4 -104 0\\n-29 -54 0\\n-29 -79 0\\n-29 -104 0\\n-54 -79 0\\n-54 -104 0\\n-79 -104 0\\n-5 -30 0\\n-5 -55 0\\n-5 -80 0\\n-5 -105 0\\n-30 -55 0\\n-30 -80 0\\n-30 -105 0\\n-55 -80 0\\n-55 -105 0\\n-80 -105 0\\n-6 -31 0\\n-6 -56 0\\n-6 -81 0\\n-6 -106 0\\n-31 -56 0\\n-31 -81 0\\n-31 -106 0\\n-56 -81 0\\n-56 -106 0\\n-81 -106 0\\n-7 -32 0\\n-7 -57 0\\n-7 -82 0\\n-7 -107 0\\n-32 -57 0\\n-32 -82 0\\n-32 -107 0\\n-57 -82 0\\n-57 -107 0\\n-82 -107 0\\n-8 -33 0\\n-8 -58 0\\n-8 -83 0\\n-8 -108 0\\n-33 -58 0\\n-33 -83 0\\n-33 -108 0\\n-58 -83 0\\n-58 -108 0\\n-83 -108 0\\n-9 -34 0\\n-9 -59 0\\n-9 -84 0\\n-9 -109 0\\n-34 -59 0\\n-34 -84 0\\n-34 -109 0\\n-59 -84 0\\n-59 -109 0\\n-84 -109 0\\n-10 -35 0\\n-10 -60 0\\n-10 -85 0\\n-10 -110 0\\n-35 -60 0\\n-35 -85 0\\n-35 -110 0\\n-60 -85 0\\n-60 -110 0\\n-85 -110 0\\n-11 -36 0\\n-11 -61 0\\n-11 -86 0\\n-11 -111 0\\n-36 -61 0\\n-36 -86 0\\n-36 -111 0\\n-61 -86 0\\n-61 -111 0\\n-86 -111 0\\n-12 -37 0\\n-12 -62 0\\n-12 -87 0\\n-12 -112 0\\n-37 -62 0\\n-37 -87 0\\n-37 -112 0\\n-62 -87 0\\n-62 -112 0\\n-87 -112 0\\n-13 -38 0\\n-13 -63 0\\n-13 -88 0\\n-13 -113 0\\n-38 -63 0\\n-38 -88 0\\n-38 -113 0\\n-63 -88 0\\n-63 -113 0\\n-88 -113 0\\n-14 -39 0\\n-14 -64 0\\n-14 -89 0\\n-14 -114 0\\n-39 -64 0\\n-39 -89 0\\n-39 -114 0\\n-64 -89 0\\n-64 -114 0\\n-89 -114 0\\n-15 -40 0\\n-15 -65 0\\n-15 -90 0\\n-15 -115 0\\n-40 -65 0\\n-40 -90 0\\n-40 -115 0\\n-65 -90 0\\n-65 -115 0\\n-90 -115 0\\n-16 -41 0\\n-16 -66 0\\n-16 -91 0\\n-16 -116 0\\n-41 -66 0\\n-41 -91 0\\n-41 -116 0\\n-66 -91 0\\n-66 -116 0\\n-91 -116 0\\n-17 -42 0\\n-17 -67 0\\n-17 -92 0\\n-17 -117 0\\n-42 -67 0\\n-42 -92 0\\n-42 -117 0\\n-67 -92 0\\n-67 -117 0\\n-92 -117 0\\n-18 -43 0\\n-18 -68 0\\n-18 -93 0\\n-18 -118 0\\n-43 -68 0\\n-43 -93 0\\n-43 -118 0\\n-68 -93 0\\n-68 -118 0\\n-93 -118 0\\n-19 -44 0\\n-19 -69 0\\n-19 -94 0\\n-19 -119 0\\n-44 -69 0\\n-44 -94 0\\n-44 -119 0\\n-69 -94 0\\n-69 -119 0\\n-94 -119 0\\n-20 -45 0\\n-20 -70 0\\n-20 -95 0\\n-20 -120 0\\n-45 -70 0\\n-45 -95 0\\n-45 -120 0\\n-70 -95 0\\n-70 -120 0\\n-95 -120 0\\n-21 -46 0\\n-21 -71 0\\n-21 -96 0\\n-21 -121 0\\n-46 -71 0\\n-46 -96 0\\n-46 -121 0\\n-71 -96 0\\n-71 -121 0\\n-96 -121 0\\n-22 -47 0\\n-22 -72 0\\n-22 -97 0\\n-22 -122 0\\n-47 -72 0\\n-47 -97 0\\n-47 -122 0\\n-72 -97 0\\n-72 -122 0\\n-97 -122 0\\n-23 -48 0\\n-23 -73 0\\n-23 -98 0\\n-23 -123 0\\n-48 -73 0\\n-48 -98 0\\n-48 -123 0\\n-73 -98 0\\n-73 -123 0\\n-98 -123 0\\n-24 -49 0\\n-24 -74 0\\n-24 -99 0\\n-24 -124 0\\n-49 -74 0\\n-49 -99 0\\n-49 -124 0\\n-74 -99 0\\n-74 -124 0\\n-99 -124 0\\n-25 -50 0\\n-25 -75 0\\n-25 -100 0\\n-25 -125 0\\n-50 -75 0\\n-50 -100 0\\n-50 -125 0\\n-75 -100 0\\n-75 -125 0\\n-100 -125 0\\n-1 6 0\\n-6 1 0\\n-26 31 0\\n-31 26 0\\n-51 56 0\\n-56 51 0\\n-76 81 0\\n-81 76 0\\n-101 106 0\\n-106 101 0\\n-2 16 0\\n-16 2 0\\n-27 41 0\\n-41 27 0\\n-52 66 0\\n-66 52 0\\n-77 91 0\\n-91 77 0\\n-102 116 0\\n-116 102 0\\n-11 7 0\\n-7 11 0\\n-36 32 0\\n-32 36 0\\n-61 57 0\\n-57 61 0\\n-86 82 0\\n-82 86 0\\n-111 107 0\\n-107 111 0\\n-8 32 0\\n-33 57 0\\n-58 82 0\\n-83 107 0\\n-21 17 0\\n-17 21 0\\n-46 42 0\\n-42 46 0\\n-71 67 0\\n-67 71 0\\n-96 92 0\\n-92 96 0\\n-121 117 0\\n-117 121 0\\n-22 9 0\\n-9 22 0\\n-47 34 0\\n-34 47 0\\n-72 59 0\\n-59 72 0\\n-97 84 0\\n-84 97 0\\n-122 109 0\\n-109 122 0\\n63 0\\n4 0\\n-23 44 0\\n-48 19 0\\n-48 69 0\\n-73 44 0\\n-73 94 0\\n-98 69 0\\n-98 119 0\\n-123 94 0\\n-22 45 0\\n-47 20 0\\n-47 70 0\\n-72 45 0\\n-72 95 0\\n-97 70 0\\n-97 120 0\\n-122 95 0\\n-24 14 0\\n-14 24 0\\n-49 39 0\\n-39 49 0\\n-74 64 0\\n-64 74 0\\n-99 89 0\\n-89 99 0\\n-124 114 0\\n-114 124 0\\n-5 25 0\\n-25 5 0\\n-30 50 0\\n-50 30 0\\n-55 75 0\\n-75 55 0\\n-80 100 0\\n-100 80 0\\n-105 125 0\\n-125 105 0\\n-4 35 0\\n-29 10 0\\n-29 60 0\\n-54 35 0\\n-54 85 0\\n-79 60 0\\n-79 110 0\\n-104 85 0\\n\")\n"
     ]
    }
   ],
   "source": [
    "print(\"Formula:\")\n",
    "print(formula)"
   ]
  },
  {
   "cell_type": "code",
   "execution_count": 23,
   "metadata": {},
   "outputs": [
    {
     "name": "stdout",
     "output_type": "stream",
     "text": [
      "Solution Found: True\n",
      "Model (first 10 literals): [-1, -2, -3, 4, -5, -6, -7, -8, 9, -10]\n"
     ]
    }
   ],
   "source": [
    "solver = Glucose3()\n",
    "solver.append_formula(formula)\n",
    "solution_found = solver.solve()\n",
    "model = solver.get_model() if solution_found else None\n",
    "\n",
    "# Print the SAT solver's output\n",
    "print(\"Solution Found:\", solution_found)\n",
    "if solution_found:\n",
    "    print(\"Model (first 10 literals):\", model[:10])\n",
    "else:\n",
    "    print(\"Model is None.\")\n"
   ]
  },
  {
   "cell_type": "code",
   "execution_count": 24,
   "metadata": {},
   "outputs": [
    {
     "name": "stdout",
     "output_type": "stream",
     "text": [
      "Final Solution: [{'Nationality': 'Norwegian', 'Color': 'Yellow', 'Drink': 'Water', 'Pet': 'Zebra', 'Cigarette': 'Kools'}, {'Nationality': 'Ukrainian', 'Color': 'Blue', 'Drink': 'Orange Juice', 'Pet': 'Horse', 'Cigarette': 'Lucky Strike'}, {'Nationality': 'Englishman', 'Color': 'Red', 'Drink': 'Milk', 'Pet': 'Snails', 'Cigarette': 'Old Gold'}, {'Nationality': 'Japanese', 'Color': 'Green', 'Drink': 'Coffee', 'Pet': 'Fox', 'Cigarette': 'Parliaments'}, {'Nationality': 'Spaniard', 'Color': 'Ivory', 'Drink': 'Tea', 'Pet': 'Dog', 'Cigarette': 'Chesterfields'}]\n"
     ]
    }
   ],
   "source": [
    "# Define the category names and attribute names for interpretation\n",
    "categories_names = [\"Nationality\", \"Color\", \"Drink\", \"Pet\", \"Cigarette\"]\n",
    "attributes_names = [\n",
    "    [\"Englishman\", \"Spaniard\", \"Ukrainian\", \"Norwegian\", \"Japanese\"],\n",
    "    [\"Red\", \"Green\", \"Ivory\", \"Yellow\", \"Blue\"],\n",
    "    [\"Coffee\", \"Tea\", \"Milk\", \"Orange Juice\", \"Water\"],\n",
    "    [\"Dog\", \"Snails\", \"Zebra\", \"Fox\", \"Horse\"],\n",
    "    [\"Old Gold\", \"Kools\", \"Chesterfields\", \"Lucky Strike\", \"Parliaments\"],\n",
    "]\n",
    "\n",
    "if solution_found:\n",
    "    # Interpret the solution\n",
    "    solution = []\n",
    "    for house in range(K):\n",
    "        house_info = {}\n",
    "        for category in range(CATEGORIES):\n",
    "            for attr in range(M):\n",
    "                variable_id = var(house, category, attr)\n",
    "                if variable_id in model: # Check if the variable ID is in the model as a positive literal\n",
    "                    house_info[categories_names[category]] = attributes_names[category][attr]\n",
    "        solution.append(house_info)\n",
    "    print(\"Final Solution:\", solution)\n",
    "else:\n",
    "    print(\"No solution found.\")\n",
    "\n"
   ]
  },
  {
   "cell_type": "code",
   "execution_count": null,
   "metadata": {},
   "outputs": [],
   "source": []
  }
 ],
 "metadata": {
  "kernelspec": {
   "display_name": "ARENA",
   "language": "python",
   "name": "python3"
  },
  "language_info": {
   "codemirror_mode": {
    "name": "ipython",
    "version": 3
   },
   "file_extension": ".py",
   "mimetype": "text/x-python",
   "name": "python",
   "nbconvert_exporter": "python",
   "pygments_lexer": "ipython3",
   "version": "3.10.12"
  },
  "orig_nbformat": 4
 },
 "nbformat": 4,
 "nbformat_minor": 2
}
