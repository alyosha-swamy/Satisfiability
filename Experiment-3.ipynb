{
 "cells": [
  {
   "cell_type": "code",
   "execution_count": 44,
   "metadata": {},
   "outputs": [
    {
     "data": {
      "text/plain": [
       "[[11, -1],\n",
       " [-11, 1],\n",
       " [12, -2],\n",
       " [-12, 2],\n",
       " [13, -3],\n",
       " [-13, 3],\n",
       " [14, -4],\n",
       " [-14, 4],\n",
       " [15, -5],\n",
       " [-15, 5]]"
      ]
     },
     "execution_count": 44,
     "metadata": {},
     "output_type": "execute_result"
    }
   ],
   "source": [
    "class EinsteinRiddleSolver:\n",
    "    def __init__(self):\n",
    "        # Initialization code\n",
    "        self.formula = []\n",
    "        self.colors = {color: [i for i in range(1, 6)] for color in ['red', 'green', 'yellow', 'blue', 'ivory']}\n",
    "        self.nationalities = {nationality: [i + 5 for i in range(1, 6)] for nationality in ['English', 'Spanish', 'Ukrainian', 'Norwegian', 'Japanese']}\n",
    "        self.drinks = {drink: [i + 10 for i in range(1, 6)] for drink in ['coffee', 'tea', 'milk', 'orange_juice', 'water']}\n",
    "        self.cigarettes = {cigarette: [i + 15 for i in range(1, 6)] for cigarette in ['Old_Gold', 'Kools', 'Chesterfields', 'Lucky_Strike', 'Parliaments']}\n",
    "        self.pets = {pet: [i + 20 for i in range(1, 6)] for pet in ['dog', 'snails', 'fox', 'horse', 'zebra']}\n",
    "        self.num_vars = 25\n",
    "\n",
    "        # Add constraints for unique assignments and encode clues\n",
    "        self.add_unique_constraints()\n",
    "        self.encode_clues()\n",
    "\n",
    "    def add_unique_constraints(self):\n",
    "        # Same logic as before\n",
    "        for attribute_set in [self.colors, self.nationalities, self.drinks, self.cigarettes, self.pets]:\n",
    "            for attribute, variables in attribute_set.items():\n",
    "                self.formula.append(variables)\n",
    "                for i in range(len(variables)):\n",
    "                    for j in range(i + 1, len(variables)):\n",
    "                        self.formula.append([-variables[i], -variables[j]])\n",
    "\n",
    "    def encode_clues(self):\n",
    "        # Clue 1: The Englishman lives in the red house.\n",
    "        for i in range(5):\n",
    "            english_var = self.nationalities['English'][i]\n",
    "            red_var = self.colors['red'][i]\n",
    "            self.formula.append([english_var, -red_var])\n",
    "            self.formula.append([-english_var, red_var])\n",
    "\n",
    "        # Clue 2: The Spaniard owns the dog.\n",
    "        for i in range(5):\n",
    "            spanish_var = self.nationalities['Spanish'][i]\n",
    "            dog_var = self.pets['dog'][i]\n",
    "            self.formula.append([spanish_var, -dog_var])\n",
    "            self.formula.append([-spanish_var, dog_var])\n",
    "\n",
    "        # Clue 3: Coffee is drunk in the green house.\n",
    "        for i in range(5):\n",
    "            coffee_var = self.drinks['coffee'][i]\n",
    "            green_var = self.colors['green'][i]\n",
    "            self.formula.append([coffee_var, -green_var])\n",
    "            self.formula.append([-coffee_var, green_var])\n",
    "\n",
    "# Create an instance of the class to verify constraints\n",
    "solver = EinsteinRiddleSolver()\n",
    "solver.formula[-10:] # Showing the last 10 constraints, including the ones for Clue 3\n"
   ]
  },
  {
   "cell_type": "code",
   "execution_count": 34,
   "metadata": {},
   "outputs": [],
   "source": [
    "# Clue 1: The Englishman lives in the red house.\n",
    "for house in houses:\n",
    "    KG.add_edge(house, 'Englishman', color='Red')\n",
    "\n",
    "# Clue 2: The Spaniard owns the dog.\n",
    "for house in houses:\n",
    "    KG.add_edge(house, 'Spaniard', pet='Dog')\n",
    "    # Clue 3: Coffee is drunk in the green house.\n",
    "for house in houses:\n",
    "    KG.add_edge(house, 'Coffee', color='Green')\n",
    "\n",
    "# Clue 4: The Ukrainian drinks tea.\n",
    "for house in houses:\n",
    "    KG.add_edge(house, 'Ukrainian', drink='Tea')\n",
    "\n",
    "# Clue 5: The green house is immediately to the right of the ivory house.\n",
    "for i in range(4):\n",
    "    KG.add_edge(houses[i], houses[i + 1], color_from='Ivory', color_to='Green')\n",
    "\n",
    "# Clue 6: The Old Gold smoker owns snails.\n",
    "for house in houses:\n",
    "    KG.add_edge(house, 'Old Gold', pet='Snails')\n",
    "\n",
    "# Clue 7: Kools are smoked in the yellow house.\n",
    "for house in houses:\n",
    "    KG.add_edge(house, 'Kools', color='Yellow')\n",
    "\n",
    "# Clue 8: Milk is drunk in the middle house.\n",
    "KG.add_edge(houses[2], 'Milk')\n",
    "\n",
    "# Clue 9: The Norwegian lives in the first house.\n",
    "KG.add_edge(houses[0], 'Norwegian')\n",
    "\n",
    "# Clue 10: The man who smokes Chesterfields lives in the house next to the man with the fox.\n",
    "for i in range(4):\n",
    "    KG.add_edge(houses[i], houses[i + 1], cigarette='Chesterfields', pet='Fox')\n",
    "    KG.add_edge(houses[i + 1], houses[i], cigarette='Chesterfields', pet='Fox')\n",
    "\n",
    "# Clue 11: Kools are smoked in the house next to the house where the horse is kept.\n",
    "for i in range(4):\n",
    "    KG.add_edge(houses[i], houses[i + 1], cigarette='Kools', pet='Horse')\n",
    "    KG.add_edge(houses[i + 1], houses[i], cigarette='Kools', pet='Horse')\n",
    "\n",
    "# Clue 12: The Lucky Strike smoker drinks orange juice.\n",
    "for house in houses:\n",
    "    KG.add_edge(house, 'Lucky Strike', drink='Orange Juice')\n",
    "\n",
    "# Clue 13: The Japanese smokes Parliaments.\n",
    "for house in houses:\n",
    "    KG.add_edge(house, 'Japanese', cigarette='Parliaments')\n",
    "\n",
    "# Clue 14: The Norwegian lives next to the blue house.\n",
    "KG.add_edge(houses[0], houses[1], color='Blue')\n",
    "KG.add_edge(houses[1], houses[0], nationality='Norwegian')\n"
   ]
  },
  {
   "cell_type": "code",
   "execution_count": 35,
   "metadata": {},
   "outputs": [],
   "source": [
    "pos = nx.spring_layout(KG)\n",
    "nx.set_node_attributes(KG, pos, 'pos')\n",
    "node_x = [KG.nodes[node]['pos'][0] for node in KG.nodes()]\n",
    "node_y = [KG.nodes[node]['pos'][1] for node in KG.nodes()]"
   ]
  },
  {
   "cell_type": "code",
   "execution_count": 37,
   "metadata": {},
   "outputs": [
    {
     "data": {
      "application/vnd.plotly.v1+json": {
       "config": {
        "plotlyServerURL": "https://plot.ly"
       },
       "data": [
        {
         "hoverinfo": "none",
         "line": {
          "color": "#888",
          "width": 0.5
         },
         "mode": "lines",
         "type": "scatter",
         "x": [
          -0.02536829744259455,
          0.23726701996143992,
          -0.02536829744259455,
          0.5488746493810348,
          -0.02536829744259455,
          0.26002905461133513,
          -0.02536829744259455,
          -0.9224209819826558,
          -0.02536829744259455,
          0.06966489444256457,
          -0.02536829744259455,
          0.7464903266077088,
          -0.02536829744259455,
          0.6948780312322786,
          -0.02536829744259455,
          -1,
          -0.02536829744259455,
          -0.4048614589513775,
          -0.02536829744259455,
          0.09045889624824341,
          0.06966489444256457,
          0.23726701996143992,
          0.06966489444256457,
          0.5488746493810348,
          0.06966489444256457,
          0.26002905461133513,
          0.06966489444256457,
          -0.9224209819826558,
          0.06966489444256457,
          0.025462371274753343,
          0.06966489444256457,
          0.7464903266077088,
          0.06966489444256457,
          0.6948780312322786,
          0.06966489444256457,
          -0.02536829744259455,
          0.06966489444256457,
          -0.4048614589513775,
          0.06966489444256457,
          0.09045889624824341,
          0.025462371274753343,
          0.23726701996143992,
          0.025462371274753343,
          0.5488746493810348,
          0.025462371274753343,
          0.26002905461133513,
          0.025462371274753343,
          -0.9224209819826558,
          0.025462371274753343,
          0.0755521584163293,
          0.025462371274753343,
          0.7464903266077088,
          0.025462371274753343,
          0.6948780312322786,
          0.025462371274753343,
          -0.4801680501925755,
          0.025462371274753343,
          0.06966489444256457,
          0.025462371274753343,
          -0.4048614589513775,
          0.025462371274753343,
          0.09045889624824341,
          0.0755521584163293,
          0.23726701996143992,
          0.0755521584163293,
          0.5488746493810348,
          0.0755521584163293,
          0.26002905461133513,
          0.0755521584163293,
          -0.9224209819826558,
          0.0755521584163293,
          0.08414138639351526,
          0.0755521584163293,
          0.7464903266077088,
          0.0755521584163293,
          0.6948780312322786,
          0.0755521584163293,
          0.025462371274753343,
          0.0755521584163293,
          -0.4048614589513775,
          0.0755521584163293,
          0.09045889624824341,
          0.08414138639351526,
          0.23726701996143992,
          0.08414138639351526,
          0.5488746493810348,
          0.08414138639351526,
          0.26002905461133513,
          0.08414138639351526,
          -0.9224209819826558,
          0.08414138639351526,
          0.7464903266077088,
          0.08414138639351526,
          0.6948780312322786,
          0.08414138639351526,
          0.0755521584163293,
          0.08414138639351526,
          -0.4048614589513775,
          0.08414138639351526,
          0.09045889624824341
         ],
         "y": [
          0.047558124494825396,
          0.8918022391098918,
          0.047558124494825396,
          -0.7419883256726182,
          0.047558124494825396,
          0.6474782175304976,
          0.047558124494825396,
          -0.5353902227492054,
          0.047558124494825396,
          0.054254749132783615,
          0.047558124494825396,
          -0.1415037398471298,
          0.047558124494825396,
          0.4459046153669472,
          0.047558124494825396,
          0.005135579527812582,
          0.047558124494825396,
          0.8942985132175888,
          0.047558124494825396,
          -0.7691572039964042,
          0.054254749132783615,
          0.8918022391098918,
          0.054254749132783615,
          -0.7419883256726182,
          0.054254749132783615,
          0.6474782175304976,
          0.054254749132783615,
          -0.5353902227492054,
          0.054254749132783615,
          -0.025379749612566782,
          0.054254749132783615,
          -0.1415037398471298,
          0.054254749132783615,
          0.4459046153669472,
          0.054254749132783615,
          0.047558124494825396,
          0.054254749132783615,
          0.8942985132175888,
          0.054254749132783615,
          -0.7691572039964042,
          -0.025379749612566782,
          0.8918022391098918,
          -0.025379749612566782,
          -0.7419883256726182,
          -0.025379749612566782,
          0.6474782175304976,
          -0.025379749612566782,
          -0.5353902227492054,
          -0.025379749612566782,
          0.04272117245607719,
          -0.025379749612566782,
          -0.1415037398471298,
          -0.025379749612566782,
          0.4459046153669472,
          -0.025379749612566782,
          -0.8679300941544651,
          -0.025379749612566782,
          0.054254749132783615,
          -0.025379749612566782,
          0.8942985132175888,
          -0.025379749612566782,
          -0.7691572039964042,
          0.04272117245607719,
          0.8918022391098918,
          0.04272117245607719,
          -0.7419883256726182,
          0.04272117245607719,
          0.6474782175304976,
          0.04272117245607719,
          -0.5353902227492054,
          0.04272117245607719,
          0.052196125195965434,
          0.04272117245607719,
          -0.1415037398471298,
          0.04272117245607719,
          0.4459046153669472,
          0.04272117245607719,
          -0.025379749612566782,
          0.04272117245607719,
          0.8942985132175888,
          0.04272117245607719,
          -0.7691572039964042,
          0.052196125195965434,
          0.8918022391098918,
          0.052196125195965434,
          -0.7419883256726182,
          0.052196125195965434,
          0.6474782175304976,
          0.052196125195965434,
          -0.5353902227492054,
          0.052196125195965434,
          -0.1415037398471298,
          0.052196125195965434,
          0.4459046153669472,
          0.052196125195965434,
          0.04272117245607719,
          0.052196125195965434,
          0.8942985132175888,
          0.052196125195965434,
          -0.7691572039964042
         ]
        },
        {
         "hoverinfo": "text",
         "marker": {
          "colorscale": [
           [
            0,
            "rgb(255,255,217)"
           ],
           [
            0.125,
            "rgb(237,248,177)"
           ],
           [
            0.25,
            "rgb(199,233,180)"
           ],
           [
            0.375,
            "rgb(127,205,187)"
           ],
           [
            0.5,
            "rgb(65,182,196)"
           ],
           [
            0.625,
            "rgb(29,145,192)"
           ],
           [
            0.75,
            "rgb(34,94,168)"
           ],
           [
            0.875,
            "rgb(37,52,148)"
           ],
           [
            1,
            "rgb(8,29,88)"
           ]
          ],
          "showscale": true,
          "size": 10
         },
         "mode": "markers",
         "type": "scatter",
         "x": [
          -0.02536829744259455,
          0.06966489444256457,
          0.025462371274753343,
          0.0755521584163293,
          0.08414138639351526,
          0.23726701996143992,
          0.5488746493810348,
          0.26002905461133513,
          -0.9224209819826558,
          0.7464903266077088,
          0.6948780312322786,
          -0.4801680501925755,
          -1,
          -0.4048614589513775,
          0.09045889624824341
         ],
         "y": [
          0.047558124494825396,
          0.054254749132783615,
          -0.025379749612566782,
          0.04272117245607719,
          0.052196125195965434,
          0.8918022391098918,
          -0.7419883256726182,
          0.6474782175304976,
          -0.5353902227492054,
          -0.1415037398471298,
          0.4459046153669472,
          -0.8679300941544651,
          0.005135579527812582,
          0.8942985132175888,
          -0.7691572039964042
         ]
        }
       ],
       "layout": {
        "hovermode": "closest",
        "margin": {
         "b": 0,
         "l": 0,
         "r": 0,
         "t": 0
        },
        "showlegend": false,
        "template": {
         "data": {
          "bar": [
           {
            "error_x": {
             "color": "#2a3f5f"
            },
            "error_y": {
             "color": "#2a3f5f"
            },
            "marker": {
             "line": {
              "color": "#E5ECF6",
              "width": 0.5
             },
             "pattern": {
              "fillmode": "overlay",
              "size": 10,
              "solidity": 0.2
             }
            },
            "type": "bar"
           }
          ],
          "barpolar": [
           {
            "marker": {
             "line": {
              "color": "#E5ECF6",
              "width": 0.5
             },
             "pattern": {
              "fillmode": "overlay",
              "size": 10,
              "solidity": 0.2
             }
            },
            "type": "barpolar"
           }
          ],
          "carpet": [
           {
            "aaxis": {
             "endlinecolor": "#2a3f5f",
             "gridcolor": "white",
             "linecolor": "white",
             "minorgridcolor": "white",
             "startlinecolor": "#2a3f5f"
            },
            "baxis": {
             "endlinecolor": "#2a3f5f",
             "gridcolor": "white",
             "linecolor": "white",
             "minorgridcolor": "white",
             "startlinecolor": "#2a3f5f"
            },
            "type": "carpet"
           }
          ],
          "choropleth": [
           {
            "colorbar": {
             "outlinewidth": 0,
             "ticks": ""
            },
            "type": "choropleth"
           }
          ],
          "contour": [
           {
            "colorbar": {
             "outlinewidth": 0,
             "ticks": ""
            },
            "colorscale": [
             [
              0,
              "#0d0887"
             ],
             [
              0.1111111111111111,
              "#46039f"
             ],
             [
              0.2222222222222222,
              "#7201a8"
             ],
             [
              0.3333333333333333,
              "#9c179e"
             ],
             [
              0.4444444444444444,
              "#bd3786"
             ],
             [
              0.5555555555555556,
              "#d8576b"
             ],
             [
              0.6666666666666666,
              "#ed7953"
             ],
             [
              0.7777777777777778,
              "#fb9f3a"
             ],
             [
              0.8888888888888888,
              "#fdca26"
             ],
             [
              1,
              "#f0f921"
             ]
            ],
            "type": "contour"
           }
          ],
          "contourcarpet": [
           {
            "colorbar": {
             "outlinewidth": 0,
             "ticks": ""
            },
            "type": "contourcarpet"
           }
          ],
          "heatmap": [
           {
            "colorbar": {
             "outlinewidth": 0,
             "ticks": ""
            },
            "colorscale": [
             [
              0,
              "#0d0887"
             ],
             [
              0.1111111111111111,
              "#46039f"
             ],
             [
              0.2222222222222222,
              "#7201a8"
             ],
             [
              0.3333333333333333,
              "#9c179e"
             ],
             [
              0.4444444444444444,
              "#bd3786"
             ],
             [
              0.5555555555555556,
              "#d8576b"
             ],
             [
              0.6666666666666666,
              "#ed7953"
             ],
             [
              0.7777777777777778,
              "#fb9f3a"
             ],
             [
              0.8888888888888888,
              "#fdca26"
             ],
             [
              1,
              "#f0f921"
             ]
            ],
            "type": "heatmap"
           }
          ],
          "heatmapgl": [
           {
            "colorbar": {
             "outlinewidth": 0,
             "ticks": ""
            },
            "colorscale": [
             [
              0,
              "#0d0887"
             ],
             [
              0.1111111111111111,
              "#46039f"
             ],
             [
              0.2222222222222222,
              "#7201a8"
             ],
             [
              0.3333333333333333,
              "#9c179e"
             ],
             [
              0.4444444444444444,
              "#bd3786"
             ],
             [
              0.5555555555555556,
              "#d8576b"
             ],
             [
              0.6666666666666666,
              "#ed7953"
             ],
             [
              0.7777777777777778,
              "#fb9f3a"
             ],
             [
              0.8888888888888888,
              "#fdca26"
             ],
             [
              1,
              "#f0f921"
             ]
            ],
            "type": "heatmapgl"
           }
          ],
          "histogram": [
           {
            "marker": {
             "pattern": {
              "fillmode": "overlay",
              "size": 10,
              "solidity": 0.2
             }
            },
            "type": "histogram"
           }
          ],
          "histogram2d": [
           {
            "colorbar": {
             "outlinewidth": 0,
             "ticks": ""
            },
            "colorscale": [
             [
              0,
              "#0d0887"
             ],
             [
              0.1111111111111111,
              "#46039f"
             ],
             [
              0.2222222222222222,
              "#7201a8"
             ],
             [
              0.3333333333333333,
              "#9c179e"
             ],
             [
              0.4444444444444444,
              "#bd3786"
             ],
             [
              0.5555555555555556,
              "#d8576b"
             ],
             [
              0.6666666666666666,
              "#ed7953"
             ],
             [
              0.7777777777777778,
              "#fb9f3a"
             ],
             [
              0.8888888888888888,
              "#fdca26"
             ],
             [
              1,
              "#f0f921"
             ]
            ],
            "type": "histogram2d"
           }
          ],
          "histogram2dcontour": [
           {
            "colorbar": {
             "outlinewidth": 0,
             "ticks": ""
            },
            "colorscale": [
             [
              0,
              "#0d0887"
             ],
             [
              0.1111111111111111,
              "#46039f"
             ],
             [
              0.2222222222222222,
              "#7201a8"
             ],
             [
              0.3333333333333333,
              "#9c179e"
             ],
             [
              0.4444444444444444,
              "#bd3786"
             ],
             [
              0.5555555555555556,
              "#d8576b"
             ],
             [
              0.6666666666666666,
              "#ed7953"
             ],
             [
              0.7777777777777778,
              "#fb9f3a"
             ],
             [
              0.8888888888888888,
              "#fdca26"
             ],
             [
              1,
              "#f0f921"
             ]
            ],
            "type": "histogram2dcontour"
           }
          ],
          "mesh3d": [
           {
            "colorbar": {
             "outlinewidth": 0,
             "ticks": ""
            },
            "type": "mesh3d"
           }
          ],
          "parcoords": [
           {
            "line": {
             "colorbar": {
              "outlinewidth": 0,
              "ticks": ""
             }
            },
            "type": "parcoords"
           }
          ],
          "pie": [
           {
            "automargin": true,
            "type": "pie"
           }
          ],
          "scatter": [
           {
            "fillpattern": {
             "fillmode": "overlay",
             "size": 10,
             "solidity": 0.2
            },
            "type": "scatter"
           }
          ],
          "scatter3d": [
           {
            "line": {
             "colorbar": {
              "outlinewidth": 0,
              "ticks": ""
             }
            },
            "marker": {
             "colorbar": {
              "outlinewidth": 0,
              "ticks": ""
             }
            },
            "type": "scatter3d"
           }
          ],
          "scattercarpet": [
           {
            "marker": {
             "colorbar": {
              "outlinewidth": 0,
              "ticks": ""
             }
            },
            "type": "scattercarpet"
           }
          ],
          "scattergeo": [
           {
            "marker": {
             "colorbar": {
              "outlinewidth": 0,
              "ticks": ""
             }
            },
            "type": "scattergeo"
           }
          ],
          "scattergl": [
           {
            "marker": {
             "colorbar": {
              "outlinewidth": 0,
              "ticks": ""
             }
            },
            "type": "scattergl"
           }
          ],
          "scattermapbox": [
           {
            "marker": {
             "colorbar": {
              "outlinewidth": 0,
              "ticks": ""
             }
            },
            "type": "scattermapbox"
           }
          ],
          "scatterpolar": [
           {
            "marker": {
             "colorbar": {
              "outlinewidth": 0,
              "ticks": ""
             }
            },
            "type": "scatterpolar"
           }
          ],
          "scatterpolargl": [
           {
            "marker": {
             "colorbar": {
              "outlinewidth": 0,
              "ticks": ""
             }
            },
            "type": "scatterpolargl"
           }
          ],
          "scatterternary": [
           {
            "marker": {
             "colorbar": {
              "outlinewidth": 0,
              "ticks": ""
             }
            },
            "type": "scatterternary"
           }
          ],
          "surface": [
           {
            "colorbar": {
             "outlinewidth": 0,
             "ticks": ""
            },
            "colorscale": [
             [
              0,
              "#0d0887"
             ],
             [
              0.1111111111111111,
              "#46039f"
             ],
             [
              0.2222222222222222,
              "#7201a8"
             ],
             [
              0.3333333333333333,
              "#9c179e"
             ],
             [
              0.4444444444444444,
              "#bd3786"
             ],
             [
              0.5555555555555556,
              "#d8576b"
             ],
             [
              0.6666666666666666,
              "#ed7953"
             ],
             [
              0.7777777777777778,
              "#fb9f3a"
             ],
             [
              0.8888888888888888,
              "#fdca26"
             ],
             [
              1,
              "#f0f921"
             ]
            ],
            "type": "surface"
           }
          ],
          "table": [
           {
            "cells": {
             "fill": {
              "color": "#EBF0F8"
             },
             "line": {
              "color": "white"
             }
            },
            "header": {
             "fill": {
              "color": "#C8D4E3"
             },
             "line": {
              "color": "white"
             }
            },
            "type": "table"
           }
          ]
         },
         "layout": {
          "annotationdefaults": {
           "arrowcolor": "#2a3f5f",
           "arrowhead": 0,
           "arrowwidth": 1
          },
          "autotypenumbers": "strict",
          "coloraxis": {
           "colorbar": {
            "outlinewidth": 0,
            "ticks": ""
           }
          },
          "colorscale": {
           "diverging": [
            [
             0,
             "#8e0152"
            ],
            [
             0.1,
             "#c51b7d"
            ],
            [
             0.2,
             "#de77ae"
            ],
            [
             0.3,
             "#f1b6da"
            ],
            [
             0.4,
             "#fde0ef"
            ],
            [
             0.5,
             "#f7f7f7"
            ],
            [
             0.6,
             "#e6f5d0"
            ],
            [
             0.7,
             "#b8e186"
            ],
            [
             0.8,
             "#7fbc41"
            ],
            [
             0.9,
             "#4d9221"
            ],
            [
             1,
             "#276419"
            ]
           ],
           "sequential": [
            [
             0,
             "#0d0887"
            ],
            [
             0.1111111111111111,
             "#46039f"
            ],
            [
             0.2222222222222222,
             "#7201a8"
            ],
            [
             0.3333333333333333,
             "#9c179e"
            ],
            [
             0.4444444444444444,
             "#bd3786"
            ],
            [
             0.5555555555555556,
             "#d8576b"
            ],
            [
             0.6666666666666666,
             "#ed7953"
            ],
            [
             0.7777777777777778,
             "#fb9f3a"
            ],
            [
             0.8888888888888888,
             "#fdca26"
            ],
            [
             1,
             "#f0f921"
            ]
           ],
           "sequentialminus": [
            [
             0,
             "#0d0887"
            ],
            [
             0.1111111111111111,
             "#46039f"
            ],
            [
             0.2222222222222222,
             "#7201a8"
            ],
            [
             0.3333333333333333,
             "#9c179e"
            ],
            [
             0.4444444444444444,
             "#bd3786"
            ],
            [
             0.5555555555555556,
             "#d8576b"
            ],
            [
             0.6666666666666666,
             "#ed7953"
            ],
            [
             0.7777777777777778,
             "#fb9f3a"
            ],
            [
             0.8888888888888888,
             "#fdca26"
            ],
            [
             1,
             "#f0f921"
            ]
           ]
          },
          "colorway": [
           "#636efa",
           "#EF553B",
           "#00cc96",
           "#ab63fa",
           "#FFA15A",
           "#19d3f3",
           "#FF6692",
           "#B6E880",
           "#FF97FF",
           "#FECB52"
          ],
          "font": {
           "color": "#2a3f5f"
          },
          "geo": {
           "bgcolor": "white",
           "lakecolor": "white",
           "landcolor": "#E5ECF6",
           "showlakes": true,
           "showland": true,
           "subunitcolor": "white"
          },
          "hoverlabel": {
           "align": "left"
          },
          "hovermode": "closest",
          "mapbox": {
           "style": "light"
          },
          "paper_bgcolor": "white",
          "plot_bgcolor": "#E5ECF6",
          "polar": {
           "angularaxis": {
            "gridcolor": "white",
            "linecolor": "white",
            "ticks": ""
           },
           "bgcolor": "#E5ECF6",
           "radialaxis": {
            "gridcolor": "white",
            "linecolor": "white",
            "ticks": ""
           }
          },
          "scene": {
           "xaxis": {
            "backgroundcolor": "#E5ECF6",
            "gridcolor": "white",
            "gridwidth": 2,
            "linecolor": "white",
            "showbackground": true,
            "ticks": "",
            "zerolinecolor": "white"
           },
           "yaxis": {
            "backgroundcolor": "#E5ECF6",
            "gridcolor": "white",
            "gridwidth": 2,
            "linecolor": "white",
            "showbackground": true,
            "ticks": "",
            "zerolinecolor": "white"
           },
           "zaxis": {
            "backgroundcolor": "#E5ECF6",
            "gridcolor": "white",
            "gridwidth": 2,
            "linecolor": "white",
            "showbackground": true,
            "ticks": "",
            "zerolinecolor": "white"
           }
          },
          "shapedefaults": {
           "line": {
            "color": "#2a3f5f"
           }
          },
          "ternary": {
           "aaxis": {
            "gridcolor": "white",
            "linecolor": "white",
            "ticks": ""
           },
           "baxis": {
            "gridcolor": "white",
            "linecolor": "white",
            "ticks": ""
           },
           "bgcolor": "#E5ECF6",
           "caxis": {
            "gridcolor": "white",
            "linecolor": "white",
            "ticks": ""
           }
          },
          "title": {
           "x": 0.05
          },
          "xaxis": {
           "automargin": true,
           "gridcolor": "white",
           "linecolor": "white",
           "ticks": "",
           "title": {
            "standoff": 15
           },
           "zerolinecolor": "white",
           "zerolinewidth": 2
          },
          "yaxis": {
           "automargin": true,
           "gridcolor": "white",
           "linecolor": "white",
           "ticks": "",
           "title": {
            "standoff": 15
           },
           "zerolinecolor": "white",
           "zerolinewidth": 2
          }
         }
        },
        "xaxis": {
         "showgrid": false,
         "zeroline": false
        },
        "yaxis": {
         "showgrid": false,
         "zeroline": false
        }
       }
      },
      "text/html": [
       "<div>                            <div id=\"540f92b0-7e93-4fa8-b96a-1695b3446b0c\" class=\"plotly-graph-div\" style=\"height:525px; width:100%;\"></div>            <script type=\"text/javascript\">                require([\"plotly\"], function(Plotly) {                    window.PLOTLYENV=window.PLOTLYENV || {};                                    if (document.getElementById(\"540f92b0-7e93-4fa8-b96a-1695b3446b0c\")) {                    Plotly.newPlot(                        \"540f92b0-7e93-4fa8-b96a-1695b3446b0c\",                        [{\"hoverinfo\":\"none\",\"line\":{\"color\":\"#888\",\"width\":0.5},\"mode\":\"lines\",\"x\":[-0.02536829744259455,0.23726701996143992,-0.02536829744259455,0.5488746493810348,-0.02536829744259455,0.26002905461133513,-0.02536829744259455,-0.9224209819826558,-0.02536829744259455,0.06966489444256457,-0.02536829744259455,0.7464903266077088,-0.02536829744259455,0.6948780312322786,-0.02536829744259455,-1.0,-0.02536829744259455,-0.4048614589513775,-0.02536829744259455,0.09045889624824341,0.06966489444256457,0.23726701996143992,0.06966489444256457,0.5488746493810348,0.06966489444256457,0.26002905461133513,0.06966489444256457,-0.9224209819826558,0.06966489444256457,0.025462371274753343,0.06966489444256457,0.7464903266077088,0.06966489444256457,0.6948780312322786,0.06966489444256457,-0.02536829744259455,0.06966489444256457,-0.4048614589513775,0.06966489444256457,0.09045889624824341,0.025462371274753343,0.23726701996143992,0.025462371274753343,0.5488746493810348,0.025462371274753343,0.26002905461133513,0.025462371274753343,-0.9224209819826558,0.025462371274753343,0.0755521584163293,0.025462371274753343,0.7464903266077088,0.025462371274753343,0.6948780312322786,0.025462371274753343,-0.4801680501925755,0.025462371274753343,0.06966489444256457,0.025462371274753343,-0.4048614589513775,0.025462371274753343,0.09045889624824341,0.0755521584163293,0.23726701996143992,0.0755521584163293,0.5488746493810348,0.0755521584163293,0.26002905461133513,0.0755521584163293,-0.9224209819826558,0.0755521584163293,0.08414138639351526,0.0755521584163293,0.7464903266077088,0.0755521584163293,0.6948780312322786,0.0755521584163293,0.025462371274753343,0.0755521584163293,-0.4048614589513775,0.0755521584163293,0.09045889624824341,0.08414138639351526,0.23726701996143992,0.08414138639351526,0.5488746493810348,0.08414138639351526,0.26002905461133513,0.08414138639351526,-0.9224209819826558,0.08414138639351526,0.7464903266077088,0.08414138639351526,0.6948780312322786,0.08414138639351526,0.0755521584163293,0.08414138639351526,-0.4048614589513775,0.08414138639351526,0.09045889624824341],\"y\":[0.047558124494825396,0.8918022391098918,0.047558124494825396,-0.7419883256726182,0.047558124494825396,0.6474782175304976,0.047558124494825396,-0.5353902227492054,0.047558124494825396,0.054254749132783615,0.047558124494825396,-0.1415037398471298,0.047558124494825396,0.4459046153669472,0.047558124494825396,0.005135579527812582,0.047558124494825396,0.8942985132175888,0.047558124494825396,-0.7691572039964042,0.054254749132783615,0.8918022391098918,0.054254749132783615,-0.7419883256726182,0.054254749132783615,0.6474782175304976,0.054254749132783615,-0.5353902227492054,0.054254749132783615,-0.025379749612566782,0.054254749132783615,-0.1415037398471298,0.054254749132783615,0.4459046153669472,0.054254749132783615,0.047558124494825396,0.054254749132783615,0.8942985132175888,0.054254749132783615,-0.7691572039964042,-0.025379749612566782,0.8918022391098918,-0.025379749612566782,-0.7419883256726182,-0.025379749612566782,0.6474782175304976,-0.025379749612566782,-0.5353902227492054,-0.025379749612566782,0.04272117245607719,-0.025379749612566782,-0.1415037398471298,-0.025379749612566782,0.4459046153669472,-0.025379749612566782,-0.8679300941544651,-0.025379749612566782,0.054254749132783615,-0.025379749612566782,0.8942985132175888,-0.025379749612566782,-0.7691572039964042,0.04272117245607719,0.8918022391098918,0.04272117245607719,-0.7419883256726182,0.04272117245607719,0.6474782175304976,0.04272117245607719,-0.5353902227492054,0.04272117245607719,0.052196125195965434,0.04272117245607719,-0.1415037398471298,0.04272117245607719,0.4459046153669472,0.04272117245607719,-0.025379749612566782,0.04272117245607719,0.8942985132175888,0.04272117245607719,-0.7691572039964042,0.052196125195965434,0.8918022391098918,0.052196125195965434,-0.7419883256726182,0.052196125195965434,0.6474782175304976,0.052196125195965434,-0.5353902227492054,0.052196125195965434,-0.1415037398471298,0.052196125195965434,0.4459046153669472,0.052196125195965434,0.04272117245607719,0.052196125195965434,0.8942985132175888,0.052196125195965434,-0.7691572039964042],\"type\":\"scatter\"},{\"hoverinfo\":\"text\",\"marker\":{\"colorscale\":[[0.0,\"rgb(255,255,217)\"],[0.125,\"rgb(237,248,177)\"],[0.25,\"rgb(199,233,180)\"],[0.375,\"rgb(127,205,187)\"],[0.5,\"rgb(65,182,196)\"],[0.625,\"rgb(29,145,192)\"],[0.75,\"rgb(34,94,168)\"],[0.875,\"rgb(37,52,148)\"],[1.0,\"rgb(8,29,88)\"]],\"showscale\":true,\"size\":10},\"mode\":\"markers\",\"x\":[-0.02536829744259455,0.06966489444256457,0.025462371274753343,0.0755521584163293,0.08414138639351526,0.23726701996143992,0.5488746493810348,0.26002905461133513,-0.9224209819826558,0.7464903266077088,0.6948780312322786,-0.4801680501925755,-1.0,-0.4048614589513775,0.09045889624824341],\"y\":[0.047558124494825396,0.054254749132783615,-0.025379749612566782,0.04272117245607719,0.052196125195965434,0.8918022391098918,-0.7419883256726182,0.6474782175304976,-0.5353902227492054,-0.1415037398471298,0.4459046153669472,-0.8679300941544651,0.005135579527812582,0.8942985132175888,-0.7691572039964042],\"type\":\"scatter\"}],                        {\"hovermode\":\"closest\",\"margin\":{\"b\":0,\"l\":0,\"r\":0,\"t\":0},\"showlegend\":false,\"xaxis\":{\"showgrid\":false,\"zeroline\":false},\"yaxis\":{\"showgrid\":false,\"zeroline\":false},\"template\":{\"data\":{\"histogram2dcontour\":[{\"type\":\"histogram2dcontour\",\"colorbar\":{\"outlinewidth\":0,\"ticks\":\"\"},\"colorscale\":[[0.0,\"#0d0887\"],[0.1111111111111111,\"#46039f\"],[0.2222222222222222,\"#7201a8\"],[0.3333333333333333,\"#9c179e\"],[0.4444444444444444,\"#bd3786\"],[0.5555555555555556,\"#d8576b\"],[0.6666666666666666,\"#ed7953\"],[0.7777777777777778,\"#fb9f3a\"],[0.8888888888888888,\"#fdca26\"],[1.0,\"#f0f921\"]]}],\"choropleth\":[{\"type\":\"choropleth\",\"colorbar\":{\"outlinewidth\":0,\"ticks\":\"\"}}],\"histogram2d\":[{\"type\":\"histogram2d\",\"colorbar\":{\"outlinewidth\":0,\"ticks\":\"\"},\"colorscale\":[[0.0,\"#0d0887\"],[0.1111111111111111,\"#46039f\"],[0.2222222222222222,\"#7201a8\"],[0.3333333333333333,\"#9c179e\"],[0.4444444444444444,\"#bd3786\"],[0.5555555555555556,\"#d8576b\"],[0.6666666666666666,\"#ed7953\"],[0.7777777777777778,\"#fb9f3a\"],[0.8888888888888888,\"#fdca26\"],[1.0,\"#f0f921\"]]}],\"heatmap\":[{\"type\":\"heatmap\",\"colorbar\":{\"outlinewidth\":0,\"ticks\":\"\"},\"colorscale\":[[0.0,\"#0d0887\"],[0.1111111111111111,\"#46039f\"],[0.2222222222222222,\"#7201a8\"],[0.3333333333333333,\"#9c179e\"],[0.4444444444444444,\"#bd3786\"],[0.5555555555555556,\"#d8576b\"],[0.6666666666666666,\"#ed7953\"],[0.7777777777777778,\"#fb9f3a\"],[0.8888888888888888,\"#fdca26\"],[1.0,\"#f0f921\"]]}],\"heatmapgl\":[{\"type\":\"heatmapgl\",\"colorbar\":{\"outlinewidth\":0,\"ticks\":\"\"},\"colorscale\":[[0.0,\"#0d0887\"],[0.1111111111111111,\"#46039f\"],[0.2222222222222222,\"#7201a8\"],[0.3333333333333333,\"#9c179e\"],[0.4444444444444444,\"#bd3786\"],[0.5555555555555556,\"#d8576b\"],[0.6666666666666666,\"#ed7953\"],[0.7777777777777778,\"#fb9f3a\"],[0.8888888888888888,\"#fdca26\"],[1.0,\"#f0f921\"]]}],\"contourcarpet\":[{\"type\":\"contourcarpet\",\"colorbar\":{\"outlinewidth\":0,\"ticks\":\"\"}}],\"contour\":[{\"type\":\"contour\",\"colorbar\":{\"outlinewidth\":0,\"ticks\":\"\"},\"colorscale\":[[0.0,\"#0d0887\"],[0.1111111111111111,\"#46039f\"],[0.2222222222222222,\"#7201a8\"],[0.3333333333333333,\"#9c179e\"],[0.4444444444444444,\"#bd3786\"],[0.5555555555555556,\"#d8576b\"],[0.6666666666666666,\"#ed7953\"],[0.7777777777777778,\"#fb9f3a\"],[0.8888888888888888,\"#fdca26\"],[1.0,\"#f0f921\"]]}],\"surface\":[{\"type\":\"surface\",\"colorbar\":{\"outlinewidth\":0,\"ticks\":\"\"},\"colorscale\":[[0.0,\"#0d0887\"],[0.1111111111111111,\"#46039f\"],[0.2222222222222222,\"#7201a8\"],[0.3333333333333333,\"#9c179e\"],[0.4444444444444444,\"#bd3786\"],[0.5555555555555556,\"#d8576b\"],[0.6666666666666666,\"#ed7953\"],[0.7777777777777778,\"#fb9f3a\"],[0.8888888888888888,\"#fdca26\"],[1.0,\"#f0f921\"]]}],\"mesh3d\":[{\"type\":\"mesh3d\",\"colorbar\":{\"outlinewidth\":0,\"ticks\":\"\"}}],\"scatter\":[{\"fillpattern\":{\"fillmode\":\"overlay\",\"size\":10,\"solidity\":0.2},\"type\":\"scatter\"}],\"parcoords\":[{\"type\":\"parcoords\",\"line\":{\"colorbar\":{\"outlinewidth\":0,\"ticks\":\"\"}}}],\"scatterpolargl\":[{\"type\":\"scatterpolargl\",\"marker\":{\"colorbar\":{\"outlinewidth\":0,\"ticks\":\"\"}}}],\"bar\":[{\"error_x\":{\"color\":\"#2a3f5f\"},\"error_y\":{\"color\":\"#2a3f5f\"},\"marker\":{\"line\":{\"color\":\"#E5ECF6\",\"width\":0.5},\"pattern\":{\"fillmode\":\"overlay\",\"size\":10,\"solidity\":0.2}},\"type\":\"bar\"}],\"scattergeo\":[{\"type\":\"scattergeo\",\"marker\":{\"colorbar\":{\"outlinewidth\":0,\"ticks\":\"\"}}}],\"scatterpolar\":[{\"type\":\"scatterpolar\",\"marker\":{\"colorbar\":{\"outlinewidth\":0,\"ticks\":\"\"}}}],\"histogram\":[{\"marker\":{\"pattern\":{\"fillmode\":\"overlay\",\"size\":10,\"solidity\":0.2}},\"type\":\"histogram\"}],\"scattergl\":[{\"type\":\"scattergl\",\"marker\":{\"colorbar\":{\"outlinewidth\":0,\"ticks\":\"\"}}}],\"scatter3d\":[{\"type\":\"scatter3d\",\"line\":{\"colorbar\":{\"outlinewidth\":0,\"ticks\":\"\"}},\"marker\":{\"colorbar\":{\"outlinewidth\":0,\"ticks\":\"\"}}}],\"scattermapbox\":[{\"type\":\"scattermapbox\",\"marker\":{\"colorbar\":{\"outlinewidth\":0,\"ticks\":\"\"}}}],\"scatterternary\":[{\"type\":\"scatterternary\",\"marker\":{\"colorbar\":{\"outlinewidth\":0,\"ticks\":\"\"}}}],\"scattercarpet\":[{\"type\":\"scattercarpet\",\"marker\":{\"colorbar\":{\"outlinewidth\":0,\"ticks\":\"\"}}}],\"carpet\":[{\"aaxis\":{\"endlinecolor\":\"#2a3f5f\",\"gridcolor\":\"white\",\"linecolor\":\"white\",\"minorgridcolor\":\"white\",\"startlinecolor\":\"#2a3f5f\"},\"baxis\":{\"endlinecolor\":\"#2a3f5f\",\"gridcolor\":\"white\",\"linecolor\":\"white\",\"minorgridcolor\":\"white\",\"startlinecolor\":\"#2a3f5f\"},\"type\":\"carpet\"}],\"table\":[{\"cells\":{\"fill\":{\"color\":\"#EBF0F8\"},\"line\":{\"color\":\"white\"}},\"header\":{\"fill\":{\"color\":\"#C8D4E3\"},\"line\":{\"color\":\"white\"}},\"type\":\"table\"}],\"barpolar\":[{\"marker\":{\"line\":{\"color\":\"#E5ECF6\",\"width\":0.5},\"pattern\":{\"fillmode\":\"overlay\",\"size\":10,\"solidity\":0.2}},\"type\":\"barpolar\"}],\"pie\":[{\"automargin\":true,\"type\":\"pie\"}]},\"layout\":{\"autotypenumbers\":\"strict\",\"colorway\":[\"#636efa\",\"#EF553B\",\"#00cc96\",\"#ab63fa\",\"#FFA15A\",\"#19d3f3\",\"#FF6692\",\"#B6E880\",\"#FF97FF\",\"#FECB52\"],\"font\":{\"color\":\"#2a3f5f\"},\"hovermode\":\"closest\",\"hoverlabel\":{\"align\":\"left\"},\"paper_bgcolor\":\"white\",\"plot_bgcolor\":\"#E5ECF6\",\"polar\":{\"bgcolor\":\"#E5ECF6\",\"angularaxis\":{\"gridcolor\":\"white\",\"linecolor\":\"white\",\"ticks\":\"\"},\"radialaxis\":{\"gridcolor\":\"white\",\"linecolor\":\"white\",\"ticks\":\"\"}},\"ternary\":{\"bgcolor\":\"#E5ECF6\",\"aaxis\":{\"gridcolor\":\"white\",\"linecolor\":\"white\",\"ticks\":\"\"},\"baxis\":{\"gridcolor\":\"white\",\"linecolor\":\"white\",\"ticks\":\"\"},\"caxis\":{\"gridcolor\":\"white\",\"linecolor\":\"white\",\"ticks\":\"\"}},\"coloraxis\":{\"colorbar\":{\"outlinewidth\":0,\"ticks\":\"\"}},\"colorscale\":{\"sequential\":[[0.0,\"#0d0887\"],[0.1111111111111111,\"#46039f\"],[0.2222222222222222,\"#7201a8\"],[0.3333333333333333,\"#9c179e\"],[0.4444444444444444,\"#bd3786\"],[0.5555555555555556,\"#d8576b\"],[0.6666666666666666,\"#ed7953\"],[0.7777777777777778,\"#fb9f3a\"],[0.8888888888888888,\"#fdca26\"],[1.0,\"#f0f921\"]],\"sequentialminus\":[[0.0,\"#0d0887\"],[0.1111111111111111,\"#46039f\"],[0.2222222222222222,\"#7201a8\"],[0.3333333333333333,\"#9c179e\"],[0.4444444444444444,\"#bd3786\"],[0.5555555555555556,\"#d8576b\"],[0.6666666666666666,\"#ed7953\"],[0.7777777777777778,\"#fb9f3a\"],[0.8888888888888888,\"#fdca26\"],[1.0,\"#f0f921\"]],\"diverging\":[[0,\"#8e0152\"],[0.1,\"#c51b7d\"],[0.2,\"#de77ae\"],[0.3,\"#f1b6da\"],[0.4,\"#fde0ef\"],[0.5,\"#f7f7f7\"],[0.6,\"#e6f5d0\"],[0.7,\"#b8e186\"],[0.8,\"#7fbc41\"],[0.9,\"#4d9221\"],[1,\"#276419\"]]},\"xaxis\":{\"gridcolor\":\"white\",\"linecolor\":\"white\",\"ticks\":\"\",\"title\":{\"standoff\":15},\"zerolinecolor\":\"white\",\"automargin\":true,\"zerolinewidth\":2},\"yaxis\":{\"gridcolor\":\"white\",\"linecolor\":\"white\",\"ticks\":\"\",\"title\":{\"standoff\":15},\"zerolinecolor\":\"white\",\"automargin\":true,\"zerolinewidth\":2},\"scene\":{\"xaxis\":{\"backgroundcolor\":\"#E5ECF6\",\"gridcolor\":\"white\",\"linecolor\":\"white\",\"showbackground\":true,\"ticks\":\"\",\"zerolinecolor\":\"white\",\"gridwidth\":2},\"yaxis\":{\"backgroundcolor\":\"#E5ECF6\",\"gridcolor\":\"white\",\"linecolor\":\"white\",\"showbackground\":true,\"ticks\":\"\",\"zerolinecolor\":\"white\",\"gridwidth\":2},\"zaxis\":{\"backgroundcolor\":\"#E5ECF6\",\"gridcolor\":\"white\",\"linecolor\":\"white\",\"showbackground\":true,\"ticks\":\"\",\"zerolinecolor\":\"white\",\"gridwidth\":2}},\"shapedefaults\":{\"line\":{\"color\":\"#2a3f5f\"}},\"annotationdefaults\":{\"arrowcolor\":\"#2a3f5f\",\"arrowhead\":0,\"arrowwidth\":1},\"geo\":{\"bgcolor\":\"white\",\"landcolor\":\"#E5ECF6\",\"subunitcolor\":\"white\",\"showland\":true,\"showlakes\":true,\"lakecolor\":\"white\"},\"title\":{\"x\":0.05},\"mapbox\":{\"style\":\"light\"}}}},                        {\"responsive\": true}                    ).then(function(){\n",
       "                            \n",
       "var gd = document.getElementById('540f92b0-7e93-4fa8-b96a-1695b3446b0c');\n",
       "var x = new MutationObserver(function (mutations, observer) {{\n",
       "        var display = window.getComputedStyle(gd).display;\n",
       "        if (!display || display === 'none') {{\n",
       "            console.log([gd, 'removed!']);\n",
       "            Plotly.purge(gd);\n",
       "            observer.disconnect();\n",
       "        }}\n",
       "}});\n",
       "\n",
       "// Listen for the removal of the full notebook cells\n",
       "var notebookContainer = gd.closest('#notebook-container');\n",
       "if (notebookContainer) {{\n",
       "    x.observe(notebookContainer, {childList: true});\n",
       "}}\n",
       "\n",
       "// Listen for the clearing of the current output cell\n",
       "var outputEl = gd.closest('.output');\n",
       "if (outputEl) {{\n",
       "    x.observe(outputEl, {childList: true});\n",
       "}}\n",
       "\n",
       "                        })                };                });            </script>        </div>"
      ]
     },
     "metadata": {},
     "output_type": "display_data"
    }
   ],
   "source": [
    "# Convert to Plotly format\n",
    "edge_x = []\n",
    "edge_y = []\n",
    "for edge in KG.edges():\n",
    "    x0, y0 = KG.nodes[edge[0]]['pos']\n",
    "    x1, y1 = KG.nodes[edge[1]]['pos']\n",
    "    edge_x.append(x0)\n",
    "    edge_y.append(y0)\n",
    "    edge_x.append(x1)\n",
    "    edge_y.append(y1)\n",
    "\n",
    "# Create a scatter plot for edges\n",
    "edge_trace = go.Scatter(\n",
    "    x=edge_x, y=edge_y,\n",
    "    line=dict(width=0.5, color='#888'),\n",
    "    hoverinfo='none',\n",
    "    mode='lines')\n",
    "\n",
    "# Create a scatter plot for nodes\n",
    "node_trace = go.Scatter(\n",
    "    x=node_x, y=node_y,\n",
    "    mode='markers',\n",
    "    hoverinfo='text',\n",
    "    marker=dict(showscale=True, colorscale='YlGnBu', size=10))\n",
    "\n",
    "# Layout for the plot\n",
    "layout = go.Layout(\n",
    "    showlegend=False,\n",
    "    hovermode='closest',\n",
    "    margin=dict(b=0, l=0, r=0, t=0),\n",
    "    xaxis=dict(showgrid=False, zeroline=False),\n",
    "    yaxis=dict(showgrid=False, zeroline=False))\n",
    "\n",
    "# Create the figure\n",
    "fig = go.Figure(data=[edge_trace, node_trace], layout=layout)\n",
    "fig.show()\n"
   ]
  }
 ],
 "metadata": {
  "kernelspec": {
   "display_name": "ARENA",
   "language": "python",
   "name": "python3"
  },
  "language_info": {
   "codemirror_mode": {
    "name": "ipython",
    "version": 3
   },
   "file_extension": ".py",
   "mimetype": "text/x-python",
   "name": "python",
   "nbconvert_exporter": "python",
   "pygments_lexer": "ipython3",
   "version": "3.10.12"
  },
  "orig_nbformat": 4
 },
 "nbformat": 4,
 "nbformat_minor": 2
}
